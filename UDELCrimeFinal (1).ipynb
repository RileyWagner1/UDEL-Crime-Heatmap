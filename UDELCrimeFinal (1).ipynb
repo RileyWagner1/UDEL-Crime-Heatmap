{
 "cells": [
  {
   "cell_type": "markdown",
   "id": "cc88e20b-ff1a-43e6-a4c1-a863c4c483cd",
   "metadata": {
    "tags": []
   },
   "source": [
    "## UD's Crime Heat Map"
   ]
  },
  {
   "cell_type": "markdown",
   "id": "b3d8ba8c-d048-40be-b415-7d6518e73210",
   "metadata": {},
   "source": [
    "Quick background information:\n",
    "- I found this webstite  and was interested in scraping the data from it. https://www.crimemapping.com/map/location/19716,%20Newark,%20DE,%20USA?id=dHA9MCNsb2M9NjgzNDc4MSNsbmc9NTQjcGw9MTIyNTQyMSNsYnM9MTQ6MTI4OTkyNw==#\n",
    "\n",
    "- I converted ALL crime incident reports from zip code 19716 Newark DE and a surrounding 2-mile radius\n",
    "- This heat map depicts ALL crime incidents from time of 8-31-2022 to 11-30-2022"
   ]
  },
  {
   "cell_type": "markdown",
   "id": "9be5f3d6-cfc8-49ab-8d8d-830e286f0cc7",
   "metadata": {},
   "source": [
    "Goals for this project:\n",
    "- assess in which areas around UD's Campus are the most crime ridden\n",
    "- perform EDA and data cleaning"
   ]
  },
  {
   "cell_type": "code",
   "execution_count": 1,
   "id": "f4b8ea85-5edc-406a-8d83-95ece72878b6",
   "metadata": {},
   "outputs": [],
   "source": [
    "import pandas as pd\n",
    "import numpy as np\n",
    "from matplotlib import pyplot as plt\n",
    "import seaborn as sns"
   ]
  },
  {
   "cell_type": "code",
   "execution_count": 2,
   "id": "a9ae0a8d-cc90-4da7-ae18-9477a047ae81",
   "metadata": {},
   "outputs": [],
   "source": [
    "df = pd.read_csv(\"UDEL Crimes.csv\")"
   ]
  },
  {
   "cell_type": "code",
   "execution_count": 3,
   "id": "72a6ee92-c50c-4b75-a8d9-9331284ae1c3",
   "metadata": {},
   "outputs": [],
   "source": [
    "df1 = df.copy()"
   ]
  },
  {
   "cell_type": "code",
   "execution_count": 5,
   "id": "49d338c7-51be-452d-b000-aacab9478314",
   "metadata": {},
   "outputs": [
    {
     "data": {
      "text/html": [
       "<div>\n",
       "<style scoped>\n",
       "    .dataframe tbody tr th:only-of-type {\n",
       "        vertical-align: middle;\n",
       "    }\n",
       "\n",
       "    .dataframe tbody tr th {\n",
       "        vertical-align: top;\n",
       "    }\n",
       "\n",
       "    .dataframe thead th {\n",
       "        text-align: right;\n",
       "    }\n",
       "</style>\n",
       "<table border=\"1\" class=\"dataframe\">\n",
       "  <thead>\n",
       "    <tr style=\"text-align: right;\">\n",
       "      <th></th>\n",
       "      <th>Type</th>\n",
       "      <th>Description</th>\n",
       "      <th>Incident #</th>\n",
       "      <th>Location</th>\n",
       "      <th>Agency</th>\n",
       "      <th>Date</th>\n",
       "      <th>Unnamed: 6</th>\n",
       "      <th>Unnamed: 7</th>\n",
       "    </tr>\n",
       "  </thead>\n",
       "  <tbody>\n",
       "    <tr>\n",
       "      <th>0</th>\n",
       "      <td>NaN</td>\n",
       "      <td>LARCENY/SHOPLIFTING</td>\n",
       "      <td>3.122041e+09</td>\n",
       "      <td>100 BLOCK MAIN ST</td>\n",
       "      <td>Newark Police</td>\n",
       "      <td>11/28/22 20:18</td>\n",
       "      <td>NaN</td>\n",
       "      <td>Obtained from: https://www.crimemapping.com/ma...</td>\n",
       "    </tr>\n",
       "    <tr>\n",
       "      <th>1</th>\n",
       "      <td>NaN</td>\n",
       "      <td>LARCENY/FROM VEHICLE/NOT ATTACHED</td>\n",
       "      <td>3.122041e+09</td>\n",
       "      <td>200 BLOCK MAIN ST</td>\n",
       "      <td>Newark Police</td>\n",
       "      <td>11/28/22 17:09</td>\n",
       "      <td>NaN</td>\n",
       "      <td>two mile radius from zipcode of 19716</td>\n",
       "    </tr>\n",
       "  </tbody>\n",
       "</table>\n",
       "</div>"
      ],
      "text/plain": [
       "   Type                        Description    Incident #           Location  \\\n",
       "0   NaN                LARCENY/SHOPLIFTING  3.122041e+09  100 BLOCK MAIN ST   \n",
       "1   NaN  LARCENY/FROM VEHICLE/NOT ATTACHED  3.122041e+09  200 BLOCK MAIN ST   \n",
       "\n",
       "          Agency            Date  Unnamed: 6  \\\n",
       "0  Newark Police  11/28/22 20:18         NaN   \n",
       "1  Newark Police  11/28/22 17:09         NaN   \n",
       "\n",
       "                                          Unnamed: 7  \n",
       "0  Obtained from: https://www.crimemapping.com/ma...  \n",
       "1              two mile radius from zipcode of 19716  "
      ]
     },
     "execution_count": 5,
     "metadata": {},
     "output_type": "execute_result"
    }
   ],
   "source": [
    "df.head(2)"
   ]
  },
  {
   "cell_type": "code",
   "execution_count": 6,
   "id": "42935b4c-8aef-434d-a48f-ea1220441ad5",
   "metadata": {},
   "outputs": [
    {
     "data": {
      "text/plain": [
       "Index(['Type', 'Description', 'Incident #', 'Location', 'Agency', 'Date',\n",
       "       'Unnamed: 6', 'Unnamed: 7'],\n",
       "      dtype='object')"
      ]
     },
     "execution_count": 6,
     "metadata": {},
     "output_type": "execute_result"
    }
   ],
   "source": [
    "df.columns"
   ]
  },
  {
   "cell_type": "code",
   "execution_count": 7,
   "id": "ce781851-b594-4ca5-83e8-fe929e9612dd",
   "metadata": {},
   "outputs": [],
   "source": [
    "df.drop([\"Type\", \"Unnamed: 6\", \"Unnamed: 7\"], axis = 1, inplace=True)"
   ]
  },
  {
   "cell_type": "code",
   "execution_count": 8,
   "id": "506e1079-ac2c-4d2c-b6bc-d9bc45d6475f",
   "metadata": {},
   "outputs": [
    {
     "data": {
      "text/plain": [
       "Index(['Description', 'Incident #', 'Location', 'Agency', 'Date'], dtype='object')"
      ]
     },
     "execution_count": 8,
     "metadata": {},
     "output_type": "execute_result"
    }
   ],
   "source": [
    "df.columns"
   ]
  },
  {
   "cell_type": "code",
   "execution_count": 9,
   "id": "20cb49df-675e-4abe-922e-90f8c333040e",
   "metadata": {},
   "outputs": [
    {
     "name": "stdout",
     "output_type": "stream",
     "text": [
      "<class 'pandas.core.frame.DataFrame'>\n",
      "RangeIndex: 653 entries, 0 to 652\n",
      "Data columns (total 5 columns):\n",
      " #   Column       Non-Null Count  Dtype  \n",
      "---  ------       --------------  -----  \n",
      " 0   Description  653 non-null    object \n",
      " 1   Incident #   625 non-null    float64\n",
      " 2   Location     653 non-null    object \n",
      " 3   Agency       653 non-null    object \n",
      " 4   Date         653 non-null    object \n",
      "dtypes: float64(1), object(4)\n",
      "memory usage: 25.6+ KB\n"
     ]
    }
   ],
   "source": [
    "#let's create month, day of month, year, and then time column as well\n",
    "df.info()"
   ]
  },
  {
   "cell_type": "code",
   "execution_count": 10,
   "id": "9a7cd522-f1af-4eda-a1f0-0ad54ac3fc5a",
   "metadata": {},
   "outputs": [
    {
     "data": {
      "text/html": [
       "<div>\n",
       "<style scoped>\n",
       "    .dataframe tbody tr th:only-of-type {\n",
       "        vertical-align: middle;\n",
       "    }\n",
       "\n",
       "    .dataframe tbody tr th {\n",
       "        vertical-align: top;\n",
       "    }\n",
       "\n",
       "    .dataframe thead th {\n",
       "        text-align: right;\n",
       "    }\n",
       "</style>\n",
       "<table border=\"1\" class=\"dataframe\">\n",
       "  <thead>\n",
       "    <tr style=\"text-align: right;\">\n",
       "      <th></th>\n",
       "      <th>Description</th>\n",
       "      <th>Incident #</th>\n",
       "      <th>Location</th>\n",
       "      <th>Agency</th>\n",
       "      <th>Date</th>\n",
       "      <th>Month</th>\n",
       "      <th>Year</th>\n",
       "    </tr>\n",
       "  </thead>\n",
       "  <tbody>\n",
       "    <tr>\n",
       "      <th>0</th>\n",
       "      <td>LARCENY/SHOPLIFTING</td>\n",
       "      <td>3.122041e+09</td>\n",
       "      <td>100 BLOCK MAIN ST</td>\n",
       "      <td>Newark Police</td>\n",
       "      <td>28</td>\n",
       "      <td>11</td>\n",
       "      <td>22 20:18</td>\n",
       "    </tr>\n",
       "    <tr>\n",
       "      <th>1</th>\n",
       "      <td>LARCENY/FROM VEHICLE/NOT ATTACHED</td>\n",
       "      <td>3.122041e+09</td>\n",
       "      <td>200 BLOCK MAIN ST</td>\n",
       "      <td>Newark Police</td>\n",
       "      <td>28</td>\n",
       "      <td>11</td>\n",
       "      <td>22 17:09</td>\n",
       "    </tr>\n",
       "  </tbody>\n",
       "</table>\n",
       "</div>"
      ],
      "text/plain": [
       "                         Description    Incident #           Location  \\\n",
       "0                LARCENY/SHOPLIFTING  3.122041e+09  100 BLOCK MAIN ST   \n",
       "1  LARCENY/FROM VEHICLE/NOT ATTACHED  3.122041e+09  200 BLOCK MAIN ST   \n",
       "\n",
       "          Agency Date Month      Year  \n",
       "0  Newark Police   28    11  22 20:18  \n",
       "1  Newark Police   28    11  22 17:09  "
      ]
     },
     "execution_count": 10,
     "metadata": {},
     "output_type": "execute_result"
    }
   ],
   "source": [
    "#non-date object\n",
    "df[[\"Month\", \"Date\", \"Year\"]] = df[\"Date\"].str.split(\"/\", expand=True)\n",
    "df.head(2)"
   ]
  },
  {
   "cell_type": "code",
   "execution_count": 11,
   "id": "0a08add5-0b69-45ab-b569-35b59d803cad",
   "metadata": {},
   "outputs": [
    {
     "data": {
      "text/html": [
       "<div>\n",
       "<style scoped>\n",
       "    .dataframe tbody tr th:only-of-type {\n",
       "        vertical-align: middle;\n",
       "    }\n",
       "\n",
       "    .dataframe tbody tr th {\n",
       "        vertical-align: top;\n",
       "    }\n",
       "\n",
       "    .dataframe thead th {\n",
       "        text-align: right;\n",
       "    }\n",
       "</style>\n",
       "<table border=\"1\" class=\"dataframe\">\n",
       "  <thead>\n",
       "    <tr style=\"text-align: right;\">\n",
       "      <th></th>\n",
       "      <th>Description</th>\n",
       "      <th>Incident #</th>\n",
       "      <th>Location</th>\n",
       "      <th>Agency</th>\n",
       "      <th>Date</th>\n",
       "      <th>Month</th>\n",
       "      <th>Year</th>\n",
       "      <th>Time</th>\n",
       "    </tr>\n",
       "  </thead>\n",
       "  <tbody>\n",
       "    <tr>\n",
       "      <th>0</th>\n",
       "      <td>LARCENY/SHOPLIFTING</td>\n",
       "      <td>3.122041e+09</td>\n",
       "      <td>100 BLOCK MAIN ST</td>\n",
       "      <td>Newark Police</td>\n",
       "      <td>28</td>\n",
       "      <td>11</td>\n",
       "      <td>22</td>\n",
       "      <td>20:18</td>\n",
       "    </tr>\n",
       "    <tr>\n",
       "      <th>1</th>\n",
       "      <td>LARCENY/FROM VEHICLE/NOT ATTACHED</td>\n",
       "      <td>3.122041e+09</td>\n",
       "      <td>200 BLOCK MAIN ST</td>\n",
       "      <td>Newark Police</td>\n",
       "      <td>28</td>\n",
       "      <td>11</td>\n",
       "      <td>22</td>\n",
       "      <td>17:09</td>\n",
       "    </tr>\n",
       "  </tbody>\n",
       "</table>\n",
       "</div>"
      ],
      "text/plain": [
       "                         Description    Incident #           Location  \\\n",
       "0                LARCENY/SHOPLIFTING  3.122041e+09  100 BLOCK MAIN ST   \n",
       "1  LARCENY/FROM VEHICLE/NOT ATTACHED  3.122041e+09  200 BLOCK MAIN ST   \n",
       "\n",
       "          Agency Date Month Year   Time  \n",
       "0  Newark Police   28    11   22  20:18  \n",
       "1  Newark Police   28    11   22  17:09  "
      ]
     },
     "execution_count": 11,
     "metadata": {},
     "output_type": "execute_result"
    }
   ],
   "source": [
    "df[[\"Year\", \"Time\"]] = df[\"Year\"].str.split(\" \", expand=True)\n",
    "df.head(2)"
   ]
  },
  {
   "cell_type": "code",
   "execution_count": 12,
   "id": "2d564596-9917-4ee9-a165-edd47b0761bb",
   "metadata": {},
   "outputs": [
    {
     "data": {
      "text/plain": [
       "(653, 8)"
      ]
     },
     "execution_count": 12,
     "metadata": {},
     "output_type": "execute_result"
    }
   ],
   "source": [
    "df.shape"
   ]
  },
  {
   "cell_type": "code",
   "execution_count": 13,
   "id": "a964cf77-c541-40de-8d43-8a052e937ade",
   "metadata": {},
   "outputs": [
    {
     "data": {
      "text/plain": [
       "Description     0\n",
       "Incident #     28\n",
       "Location        0\n",
       "Agency          0\n",
       "Date            0\n",
       "Month           0\n",
       "Year            0\n",
       "Time            0\n",
       "dtype: int64"
      ]
     },
     "execution_count": 13,
     "metadata": {},
     "output_type": "execute_result"
    }
   ],
   "source": [
    "df.isnull().sum()"
   ]
  },
  {
   "cell_type": "code",
   "execution_count": 17,
   "id": "47e5d648-a39d-4936-8180-0cce86736754",
   "metadata": {},
   "outputs": [
    {
     "data": {
      "text/plain": [
       "'300 BLOCK PAPER MILL RD'"
      ]
     },
     "execution_count": 17,
     "metadata": {},
     "output_type": "execute_result"
    }
   ],
   "source": [
    "#First we need to remove \"BLOCK\" from address and then convert address\n",
    "#into lat and lon quick test with lat/long package first:\n",
    "\n",
    "df.iloc[2][2]"
   ]
  },
  {
   "cell_type": "code",
   "execution_count": 15,
   "id": "098b2f14-f35c-4746-bb33-a0001e7c997e",
   "metadata": {},
   "outputs": [
    {
     "name": "stdout",
     "output_type": "stream",
     "text": [
      "300 block paper mill rd, Newark, DE 19716, United States\n"
     ]
    }
   ],
   "source": [
    "x = df.iloc[2][2].lower() + ', Newark, DE 19716, United States'\n",
    "print(x)"
   ]
  },
  {
   "cell_type": "code",
   "execution_count": 16,
   "id": "921e7d61-1ccd-4837-86f5-8dd9c94b386d",
   "metadata": {},
   "outputs": [
    {
     "data": {
      "text/plain": [
       "('39.691342', '-75.74942')"
      ]
     },
     "execution_count": 16,
     "metadata": {},
     "output_type": "execute_result"
    }
   ],
   "source": [
    "from geopy.geocoders import Nominatim\n",
    "app = Nominatim(user_agent=\"test\")\n",
    "address = \"300 Paper Mill Rd, Newark, DE 19711, United States\"\n",
    "# address = \"First St SE, Washington, DC 20004, United States\"\n",
    "location = app.geocode(address).raw\n",
    "location['lat'], location['lon']"
   ]
  },
  {
   "cell_type": "code",
   "execution_count": 19,
   "id": "1d906f9b-7eb0-4095-872f-c7e667f29e5f",
   "metadata": {},
   "outputs": [],
   "source": [
    "#removing \"BLOCK\" from address:\n",
    "\n",
    "banned = [\"BLOCK\"]\n",
    "f = lambda x: ' '.join([item for item in x.split() if item not in banned])\n",
    "df[\"Location\"] = df[\"Location\"].apply(f)"
   ]
  },
  {
   "cell_type": "code",
   "execution_count": 20,
   "id": "2388e5c6-c0a2-45ca-85bb-adb42bfdd751",
   "metadata": {},
   "outputs": [
    {
     "data": {
      "text/html": [
       "<div>\n",
       "<style scoped>\n",
       "    .dataframe tbody tr th:only-of-type {\n",
       "        vertical-align: middle;\n",
       "    }\n",
       "\n",
       "    .dataframe tbody tr th {\n",
       "        vertical-align: top;\n",
       "    }\n",
       "\n",
       "    .dataframe thead th {\n",
       "        text-align: right;\n",
       "    }\n",
       "</style>\n",
       "<table border=\"1\" class=\"dataframe\">\n",
       "  <thead>\n",
       "    <tr style=\"text-align: right;\">\n",
       "      <th></th>\n",
       "      <th>Description</th>\n",
       "      <th>Incident #</th>\n",
       "      <th>Location</th>\n",
       "      <th>Agency</th>\n",
       "      <th>Date</th>\n",
       "      <th>Month</th>\n",
       "      <th>Year</th>\n",
       "      <th>Time</th>\n",
       "    </tr>\n",
       "  </thead>\n",
       "  <tbody>\n",
       "    <tr>\n",
       "      <th>0</th>\n",
       "      <td>LARCENY/SHOPLIFTING</td>\n",
       "      <td>3.122041e+09</td>\n",
       "      <td>100 MAIN ST</td>\n",
       "      <td>Newark Police</td>\n",
       "      <td>28</td>\n",
       "      <td>11</td>\n",
       "      <td>22</td>\n",
       "      <td>20:18</td>\n",
       "    </tr>\n",
       "    <tr>\n",
       "      <th>1</th>\n",
       "      <td>LARCENY/FROM VEHICLE/NOT ATTACHED</td>\n",
       "      <td>3.122041e+09</td>\n",
       "      <td>200 MAIN ST</td>\n",
       "      <td>Newark Police</td>\n",
       "      <td>28</td>\n",
       "      <td>11</td>\n",
       "      <td>22</td>\n",
       "      <td>17:09</td>\n",
       "    </tr>\n",
       "  </tbody>\n",
       "</table>\n",
       "</div>"
      ],
      "text/plain": [
       "                         Description    Incident #     Location  \\\n",
       "0                LARCENY/SHOPLIFTING  3.122041e+09  100 MAIN ST   \n",
       "1  LARCENY/FROM VEHICLE/NOT ATTACHED  3.122041e+09  200 MAIN ST   \n",
       "\n",
       "          Agency Date Month Year   Time  \n",
       "0  Newark Police   28    11   22  20:18  \n",
       "1  Newark Police   28    11   22  17:09  "
      ]
     },
     "execution_count": 20,
     "metadata": {},
     "output_type": "execute_result"
    }
   ],
   "source": [
    "df.head(2)"
   ]
  },
  {
   "cell_type": "code",
   "execution_count": 23,
   "id": "caee7dc9-8300-4c91-9222-8fa28e1c5c6d",
   "metadata": {},
   "outputs": [],
   "source": [
    "#some locations can not be automatically converted, so I will be using except clause while\n",
    "#iterating throughout dataset for now"
   ]
  },
  {
   "cell_type": "code",
   "execution_count": 21,
   "id": "e96fde40-ba9c-4bb7-9cf6-afe8ebeba562",
   "metadata": {},
   "outputs": [],
   "source": [
    "test_df = df"
   ]
  },
  {
   "cell_type": "code",
   "execution_count": 24,
   "id": "beaee98f-c837-4492-a8e9-f7ad374bd7e3",
   "metadata": {},
   "outputs": [],
   "source": [
    "#be aware the code below will take a couple mins to run as it is going through\n",
    "#the whole data set automatically converting addresses into lat first then lon cordinates"
   ]
  },
  {
   "cell_type": "code",
   "execution_count": null,
   "id": "67f7d773-d4a5-46de-904f-ee0d183d0718",
   "metadata": {},
   "outputs": [],
   "source": [
    "data = []\n",
    "for value in test_df[\"Location\"]:\n",
    "    try:\n",
    "        app = Nominatim(user_agent=\"test\")\n",
    "        address = value + \", Newark, DE 19716, United States\"\n",
    "        location = app.geocode(address).raw\n",
    "        data.append(location['lat'])  \n",
    "    except:\n",
    "        data.append(\"unknown\")\n",
    "test_df[\"Latitude\"] = data "
   ]
  },
  {
   "cell_type": "code",
   "execution_count": null,
   "id": "24694e90-fc25-4a64-a388-fa320d76c8b0",
   "metadata": {},
   "outputs": [],
   "source": [
    "data = []\n",
    "for value in test_df[\"Location\"]:\n",
    "    try:\n",
    "        app = Nominatim(user_agent=\"test\")\n",
    "        address = value + \", Newark, DE 19716, United States\"\n",
    "        location = app.geocode(address).raw\n",
    "        data.append(location['lon'])\n",
    "    except:\n",
    "        data.append(\"unknown\")\n",
    "test_df[\"Longitude\"] = data "
   ]
  },
  {
   "cell_type": "code",
   "execution_count": null,
   "id": "f193e130-304f-4064-82eb-b781720813a4",
   "metadata": {},
   "outputs": [],
   "source": [
    "#saving the df into csv so I don't have to wait for results again:\n",
    "test_df.to_csv('test_data_processed.csv')"
   ]
  },
  {
   "cell_type": "code",
   "execution_count": null,
   "id": "80a61eb3-712d-49bc-a7d8-b0f393cf3a97",
   "metadata": {},
   "outputs": [],
   "source": [
    "#we need to drop the \"uknown\" in observations for lat/lon before mapping\n",
    "test_df.drop(test_df.loc[test_df['Latitude']==\"unknown\"].index, inplace=True)"
   ]
  },
  {
   "cell_type": "code",
   "execution_count": null,
   "id": "29304526-6ff1-4b66-919d-15745dcc405d",
   "metadata": {},
   "outputs": [],
   "source": [
    "test_df.drop(test_df.loc[test_df['Longitude']==\"unknown\"].index, inplace=True)"
   ]
  },
  {
   "cell_type": "code",
   "execution_count": null,
   "id": "4c4a7410-a77d-48bd-b60b-ae8ec6d3d8ec",
   "metadata": {},
   "outputs": [],
   "source": [
    "#for mapping cordinates we will need to convert df lat/lon columsn into an array\n",
    "crime_locations = test_df[[\"Latitude\", \"Longitude\"]]"
   ]
  },
  {
   "cell_type": "code",
   "execution_count": null,
   "id": "8eabf982-fdfa-483e-8939-e0aa1c52b7a8",
   "metadata": {},
   "outputs": [],
   "source": [
    "#iterating through test_df to append intensity of .1 (can mess around with this later)\n",
    "\n",
    "data = []\n",
    "\n",
    "for value in crime_locations[\"Latitude\"]:\n",
    "    data.append(.1)\n",
    "crime_locations[\"Intensity\"] = data "
   ]
  },
  {
   "cell_type": "code",
   "execution_count": null,
   "id": "1ad74c80-f4c6-494c-8a61-b2bd476c4fdc",
   "metadata": {},
   "outputs": [],
   "source": [
    "crime_locations.head()"
   ]
  },
  {
   "cell_type": "code",
   "execution_count": null,
   "id": "d5c2ac41-aade-4125-9090-51f8ee35ca40",
   "metadata": {},
   "outputs": [],
   "source": [
    "#converting to array with all data required to map df\n",
    "crime_locations_array = crime_locations.to_numpy()"
   ]
  },
  {
   "cell_type": "code",
   "execution_count": null,
   "id": "bcd953d0-c508-42aa-b42c-65521a9b3219",
   "metadata": {},
   "outputs": [],
   "source": [
    "#what the array/other info looks like\n",
    "crime_locations_array"
   ]
  },
  {
   "cell_type": "code",
   "execution_count": null,
   "id": "98575e5a-ae0b-40f8-a887-8050697fbd3c",
   "metadata": {},
   "outputs": [],
   "source": [
    "# first attempt at heat map\n",
    "\n",
    "map_heatmap = folium.Map([39.6749886, -75.7490016], tiles='CartoDB Positron', zoom_start=13)\n",
    "\n",
    "# plugins.HeatMap(crimes).add_to(map_heatmap)\n",
    "plugins.HeatMap(crime_locations_array).add_to(map_heatmap)\n",
    "\n",
    "map_heatmap"
   ]
  },
  {
   "cell_type": "code",
   "execution_count": null,
   "id": "92a3cd50-50d9-4aa0-98e5-0acbba2ed567",
   "metadata": {},
   "outputs": [],
   "source": [
    "#to save map as interactive HTML file:\n",
    "# map_heatmap.save('map.html')"
   ]
  }
 ],
 "metadata": {
  "kernelspec": {
   "display_name": "Python 3 (ipykernel)",
   "language": "python",
   "name": "python3"
  },
  "language_info": {
   "codemirror_mode": {
    "name": "ipython",
    "version": 3
   },
   "file_extension": ".py",
   "mimetype": "text/x-python",
   "name": "python",
   "nbconvert_exporter": "python",
   "pygments_lexer": "ipython3",
   "version": "3.7.13"
  }
 },
 "nbformat": 4,
 "nbformat_minor": 5
}
